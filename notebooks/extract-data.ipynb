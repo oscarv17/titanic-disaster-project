{
 "cells": [
  {
   "cell_type": "code",
   "execution_count": 42,
   "metadata": {},
   "outputs": [],
   "source": [
    "from dotenv import find_dotenv, load_dotenv\n",
    "import os\n",
    "import kaggle"
   ]
  },
  {
   "cell_type": "code",
   "execution_count": 43,
   "metadata": {},
   "outputs": [
    {
     "data": {
      "text/plain": [
       "True"
      ]
     },
     "execution_count": 43,
     "metadata": {},
     "output_type": "execute_result"
    }
   ],
   "source": [
    "# loading dotenv\n",
    "\n",
    "dotenv = find_dotenv()\n",
    "load_dotenv(dotenv)"
   ]
  },
  {
   "cell_type": "code",
   "execution_count": 44,
   "metadata": {},
   "outputs": [],
   "source": [
    "# setting credentials\n",
    "!set KAGGLE_USERNAME = os.environ.get('kaggle_username')\n",
    "!set KAGGLE_KEY = os.environ.get('kaggle_key')"
   ]
  },
  {
   "cell_type": "code",
   "execution_count": 47,
   "metadata": {},
   "outputs": [],
   "source": [
    "# function to extract the data\n",
    "def extractData(path):\n",
    "    \n",
    "    !kaggle datasets download mhouellemont/titanic -f train.csv -p $path\n",
    "    !kaggle datasets download mhouellemont/titanic -f test.csv -p $path"
   ]
  },
  {
   "cell_type": "code",
   "execution_count": 48,
   "metadata": {},
   "outputs": [
    {
     "name": "stdout",
     "output_type": "stream",
     "text": [
      "train.csv: Skipping, found more recently modified local copy (use --force to force download)\n",
      "test.csv: Skipping, found more recently modified local copy (use --force to force download)\n"
     ]
    }
   ],
   "source": [
    "# set data paths\n",
    "raw_data_path = os.path.join(os.path.pardir,'data','raw')\n",
    "\n",
    "# extract the data\n",
    "extractData(raw_data_path)"
   ]
  },
  {
   "cell_type": "markdown",
   "metadata": {},
   "source": [
    "# Building script"
   ]
  },
  {
   "cell_type": "code",
   "execution_count": 55,
   "metadata": {},
   "outputs": [],
   "source": [
    "script_path = os.path.join(os.path.pardir, 'src','data','get_raw_data.py')"
   ]
  },
  {
   "cell_type": "code",
   "execution_count": 64,
   "metadata": {},
   "outputs": [
    {
     "name": "stdout",
     "output_type": "stream",
     "text": [
      "Overwriting ..\\src\\data\\get_raw_data.py\n"
     ]
    }
   ],
   "source": [
    "%%writefile $script_path\n",
    "import os\n",
    "import kaggle\n",
    "from dotenv import find_dotenv, load_dotenv\n",
    "import logging\n",
    "\n",
    "# setting credentials\n",
    "os.system('set KAGGLE_USERNAME =' + os.environ.get('kaggle_username'))\n",
    "os.system('set KAGGLE_KEY =' + os.environ.get('kaggle_key'))\n",
    "\n",
    "\n",
    "# function to extract the data\n",
    "def extractData(path):  \n",
    "    os.system('kaggle datasets download mhouellemont/titanic -f train.csv -p %s'%path)\n",
    "    os.system('kaggle datasets download mhouellemont/titanic -f test.csv -p %s'%path)\n",
    "    \n",
    "def main(project_dir):\n",
    "    logger = logging.getLogger(__name__)\n",
    "    logger.info('Getting raw data')\n",
    "    \n",
    "    # set data paths\n",
    "    raw_data_path = os.path.join(os.path.pardir,'data','raw')\n",
    "\n",
    "    # extract the data\n",
    "    extractData(raw_data_path)\n",
    "    logger.info('Data downloaded')\n",
    "\n",
    "if __name__ == '__main__':\n",
    "    project_dir = os.path.join(os.path.dirname(__file__),os.pardir,os.pardir)\n",
    "    \n",
    "    # set up logger\n",
    "    log_format = '%(asctime)s - %(name)s - %(levelname)s - %(message)s'\n",
    "    logging.basicConfig(level = logging.INFO, format = log_format)\n",
    "    \n",
    "    # loading dotenv\n",
    "    dotenv = find_dotenv()\n",
    "    load_dotenv(dotenv)\n",
    "    \n",
    "    main(project_dir)"
   ]
  },
  {
   "cell_type": "code",
   "execution_count": null,
   "metadata": {},
   "outputs": [],
   "source": []
  },
  {
   "cell_type": "code",
   "execution_count": null,
   "metadata": {},
   "outputs": [],
   "source": []
  }
 ],
 "metadata": {
  "kernelspec": {
   "display_name": "Python 3",
   "language": "python",
   "name": "python3"
  },
  "language_info": {
   "codemirror_mode": {
    "name": "ipython",
    "version": 3
   },
   "file_extension": ".py",
   "mimetype": "text/x-python",
   "name": "python",
   "nbconvert_exporter": "python",
   "pygments_lexer": "ipython3",
   "version": "3.7.3"
  }
 },
 "nbformat": 4,
 "nbformat_minor": 2
}
